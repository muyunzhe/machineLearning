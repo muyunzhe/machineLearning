{
 "cells": [
  {
   "cell_type": "code",
   "execution_count": 9,
   "metadata": {
    "collapsed": true
   },
   "outputs": [],
   "source": [
    "#-*- encoding: utf-8 -*-\n",
    "import random\n",
    "import operator\n",
    "import datetime\n",
    "import numpy as np\n",
    "import pandas as pd\n",
    "import statsmodels.api as sm\n",
    "import matplotlib.pyplot as plt"
   ]
  },
  {
   "cell_type": "code",
   "execution_count": 5,
   "metadata": {},
   "outputs": [],
   "source": [
    "# 100个正态分布的悲伤\n",
    "grief_heights = np.random.normal(50, 6, 100)\n",
    "grief_weights = np.random.normal(5, 0.5, 100)\n",
    "\n",
    "# 100个正态分布的痛苦\n",
    "agony_heights = np.random.normal(30,6,100)\n",
    "agony_weights = np.random.normal(4,0.5,100)\n",
    "\n",
    "# 100个正态分布的绝望\n",
    "despair_heights = np.random.normal(45,6,100)\n",
    "despair_weights = np.random.normal(2.5, 0.5, 100)"
   ]
  },
  {
   "cell_type": "code",
   "execution_count": 12,
   "metadata": {},
   "outputs": [],
   "source": [
    "# 设置图片大小\n",
    "fig_size = plt.rcParams[\"figure.figsize\"]\n",
    "fig_size[0] = 15\n",
    "fig_size[1] = 10"
   ]
  },
  {
   "cell_type": "code",
   "execution_count": 16,
   "metadata": {},
   "outputs": [],
   "source": [
    "plt.scatter(grief_heights,grief_weights,c='g',marker='s',s=50,alpha=0.8)\n",
    "plt.axis((10, 70, 1, 7))\n",
    "plt.xlabel('height', size=15)\n",
    "plt.ylabel('weight', size=15)\n",
    "plt.scatter(grief_heights,grief_weights,c='g',marker='s',s=50,alpha=0.8)\n",
    "plt.scatter(agony_heights,agony_weights,c='b',marker='^',s=50,alpha=0.8)\n",
    "plt.axis((10, 70,1,7))\n",
    "plt.xlabel('height',size=15)\n",
    "plt.ylabel('weight', size=15)\n",
    "plt.scatter(grief_heights,grief_weights,c='g',marker='s',s=50,alpha=0.8)\n",
    "plt.scatter(agony_heights,agony_weights,c='b',marker='^',s=50,alpha=0.8)\n",
    "plt.scatter(despair_heights,despair_weights, c='y', s=50, alpha=0.8)\n",
    "plt.axis((10, 70,1,7))\n",
    "plt.xlabel('height',size=15)\n",
    "plt.ylabel('weight', size=15)\n",
    "plt.show()"
   ]
  },
  {
   "cell_type": "code",
   "execution_count": 17,
   "metadata": {},
   "outputs": [
    {
     "data": {
      "text/plain": [
       "Text(0,0.5,u'weight')"
      ]
     },
     "execution_count": 17,
     "metadata": {},
     "output_type": "execute_result"
    }
   ],
   "source": [
    "plt.scatter(40,2.7, c='r', s=200, marker='*',alpha=0.8)\n",
    "plt.scatter(grief_heights,grief_weights,c='g',marker='s',s=50,alpha=0.8)\n",
    "plt.scatter(agony_heights,agony_weights,c='b',marker='^',s=50,alpha=0.8)\n",
    "plt.scatter(despair_heights,despair_weights, c='y', s=50, alpha=0.8)\n",
    "plt.axis((10, 70,1,7))\n",
    "plt.xlabel('height',size=15)\n",
    "plt.ylabel('weight', size=15)"
   ]
  },
  {
   "cell_type": "code",
   "execution_count": 19,
   "metadata": {},
   "outputs": [],
   "source": [
    "class kdtree(object):\n",
    "    \n",
    "    # 创建 kdtree 喵\n",
    "    # point_list 是一个 list 的 pair，pair[0] 是一 tuple 的特征，pair[1] 是类别\n",
    "    def __init__(self, point_list, depth=0, root=None):\n",
    "        \n",
    "        if len(point_list)>0:\n",
    "            \n",
    "            # 轮换按照树深度选择坐标轴\n",
    "            k = len(point_list[0][0])\n",
    "            axis = depth % k\n",
    "            \n",
    "            # 选中位线，切\n",
    "            point_list.sort(key=lambda x:x[0][axis])\n",
    "            median = len(point_list) // 2\n",
    "            \n",
    "            self.axis = axis\n",
    "            self.root = root\n",
    "            self.size = len(point_list)\n",
    "            \n",
    "            # 造节点\n",
    "            self.node = point_list[median]\n",
    "            # 递归造左枝和右枝\n",
    "            if len(point_list[:median])>0:\n",
    "                self.left = kdtree(point_list[:median], depth+1, self)\n",
    "            else:\n",
    "                self.left = None\n",
    "            if len(point_list[median+1:])>0:\n",
    "                self.right = kdtree(point_list[median+1:], depth+1, self)\n",
    "            else:\n",
    "                self.right = None\n",
    "            # 记录是按哪个方向切的还有树根\n",
    "\n",
    "        else:\n",
    "            return None\n",
    "    \n",
    "    # 在树上加一点\n",
    "    def insert(self, point):\n",
    "        self.size += 1\n",
    "        \n",
    "        # 分析是左还是右，递归加在叶子上\n",
    "        if point[0][self.axis]<self.node[0][self.axis]:\n",
    "            if self.left!=None:\n",
    "                self.left.insert(point)\n",
    "            else:\n",
    "                self.left = kdtree([point], self.axis+1, self)\n",
    "        else:\n",
    "            if self.right!=None:\n",
    "                self.right.insert(point)\n",
    "            else:\n",
    "                self.right = kdtree([point], self.axis+1, self)\n",
    "            \n",
    "            \n",
    "    # 输入一点\n",
    "    # 按切分寻找叶子\n",
    "    def find_leaf(self, point):\n",
    "        if self.left==None and self.right==None:\n",
    "            return self\n",
    "        elif self.left==None:\n",
    "            return self.right.find_leaf(point)\n",
    "        elif self.right==None:\n",
    "            return self.left.find_leaf(point)\n",
    "        elif point[self.axis]<self.node[0][self.axis]:\n",
    "            return self.left.find_leaf(point)\n",
    "        else:\n",
    "            return self.right.find_leaf(point)\n",
    "        \n",
    "\n",
    "    # 查找最近的 k 个点，复杂度 O(DlogN)，D是维度，N是树的大小\n",
    "    # 输入一点、一距离函数、一k。距离函数默认是 L_2\n",
    "    def knearest(self, point, k=1, dist=lambda x,y: sum(map(lambda u,v:(u-v)**2,x,y))):\n",
    "        # 往下戳到最底叶\n",
    "        leaf = self.find_leaf(point)\n",
    "        # 从叶子网上爬\n",
    "        return leaf.k_down_up(point, k, dist, result=[], stop=self, visited=None)\n",
    "\n",
    "\n",
    "    # 从下往上爬函数，stop是到哪里去，visited是从哪里来\n",
    "    def k_down_up(self, point,k, dist, result=[],stop=None, visited=None):\n",
    "\n",
    "        # 选最长距离\n",
    "        if result==[]:\n",
    "            max_dist = 0\n",
    "        else:\n",
    "            max_dist = max([x[1] for x in result])\n",
    "\n",
    "        other_result=[]\n",
    "\n",
    "        # 如果离分界线的距离小于现有最大距离，或者数据点不够，就从另一边的树根开始刨\n",
    "        if (self.left==visited and self.node[0][self.axis]-point[self.axis]<max_dist and self.right!=None)\\\n",
    "            or (len(result)<k and self.left==visited and self.right!=None):\n",
    "            other_result=self.right.knearest(point,k, dist)\n",
    "\n",
    "        if (self.right==visited and point[self.axis]-self.node[0][self.axis]<max_dist and self.left!=None)\\\n",
    "            or (len(result)<k and self.right==visited and self.left!=None):\n",
    "            other_result=self.left.knearest(point, k, dist)\n",
    "\n",
    "        # 刨出来的点放一起，选前 k 个\n",
    "        result.append((self.node, dist(point, self.node[0])))\n",
    "        result = sorted(result+other_result, key=lambda pair: pair[1])[:k]\n",
    "\n",
    "        # 到停点就返回结果\n",
    "        if self==stop:\n",
    "            return result\n",
    "        # 没有就带着现有结果接着往上爬\n",
    "        else:\n",
    "            return self.root.k_down_up(point,k,  dist, result, stop, self)\n",
    "\n",
    "    # 输入 特征、类别、k、距离函数\n",
    "    # 返回这个点属于该类别的概率\n",
    "    def kNN_prob(self, point, label, k, dist=lambda x,y: sum(map(lambda u,v:(u-v)**2,x,y))):\n",
    "        nearests = self.knearest(point,  k, dist)\n",
    "        return float(len([pair for pair in nearests if pair[0][1]==label]))/float(len(nearests))\n",
    "\n",
    "\n",
    "    # 输入 特征、k、距离函数\n",
    "    # 返回该点概率最大的类别以及相对应的概率\n",
    "    def kNN(self, point, k, dist=lambda x,y: sum(map(lambda u,v:(u-v)**2,x,y))):\n",
    "        nearests = self.knearest(point, k , dist)\n",
    "\n",
    "        statistics = {}\n",
    "        for data in nearests:\n",
    "            label = data[0][1]\n",
    "            if label not in statistics: \n",
    "                statistics[label] = 1\n",
    "            else:\n",
    "                statistics[label] += 1\n",
    "\n",
    "        max_label = max(statistics.iteritems(), key=operator.itemgetter(1))[0]\n",
    "        return max_label, float(statistics[max_label])/float(len(nearests))"
   ]
  },
  {
   "cell_type": "code",
   "execution_count": 20,
   "metadata": {},
   "outputs": [
    {
     "ename": "NameError",
     "evalue": "name 'concatenate' is not defined",
     "traceback": [
      "\u001b[1;31m\u001b[0m",
      "\u001b[1;31mNameError\u001b[0mTraceback (most recent call last)",
      "\u001b[1;32m<ipython-input-20-2de2240cbfe5>\u001b[0m in \u001b[0;36m<module>\u001b[1;34m()\u001b[0m\n\u001b[0;32m      4\u001b[0m \u001b[0mdespairs\u001b[0m \u001b[1;33m=\u001b[0m \u001b[0mmap\u001b[0m\u001b[1;33m(\u001b[0m\u001b[1;32mlambda\u001b[0m \u001b[0ma\u001b[0m\u001b[1;33m,\u001b[0m\u001b[0mb\u001b[0m\u001b[1;33m:\u001b[0m\u001b[0mtuple\u001b[0m\u001b[1;33m(\u001b[0m\u001b[1;33m(\u001b[0m\u001b[1;33m(\u001b[0m\u001b[0ma\u001b[0m\u001b[1;33m,\u001b[0m\u001b[0mb\u001b[0m\u001b[1;33m)\u001b[0m\u001b[1;33m,\u001b[0m\u001b[1;34m'y'\u001b[0m\u001b[1;33m)\u001b[0m\u001b[1;33m)\u001b[0m\u001b[1;33m,\u001b[0m\u001b[0mdespair_heights\u001b[0m\u001b[1;33m,\u001b[0m \u001b[0mdespair_weights\u001b[0m\u001b[1;33m)\u001b[0m\u001b[1;33m\u001b[0m\u001b[0m\n\u001b[0;32m      5\u001b[0m \u001b[1;31m# 创建kd树\u001b[0m\u001b[1;33m\u001b[0m\u001b[1;33m\u001b[0m\u001b[0m\n\u001b[1;32m----> 6\u001b[1;33m \u001b[0mtree\u001b[0m \u001b[1;33m=\u001b[0m \u001b[0mkdtree\u001b[0m\u001b[1;33m(\u001b[0m\u001b[0mlist\u001b[0m\u001b[1;33m(\u001b[0m\u001b[0mconcatenate\u001b[0m\u001b[1;33m(\u001b[0m\u001b[1;33m(\u001b[0m\u001b[0mgrieves\u001b[0m\u001b[1;33m,\u001b[0m\u001b[0magonies\u001b[0m\u001b[1;33m,\u001b[0m\u001b[0mdespairs\u001b[0m\u001b[1;33m)\u001b[0m\u001b[1;33m)\u001b[0m\u001b[1;33m)\u001b[0m\u001b[1;33m)\u001b[0m\u001b[1;33m\u001b[0m\u001b[0m\n\u001b[0m",
      "\u001b[1;31mNameError\u001b[0m: name 'concatenate' is not defined"
     ],
     "output_type": "error"
    }
   ],
   "source": [
    "# 设置样本集\n",
    "grieves = map(lambda x,y:tuple(((x,y),'g')),grief_heights, grief_weights)\n",
    "agonies = map(lambda u,v:tuple(((u,v),'b')),agony_heights, agony_weights)\n",
    "despairs = map(lambda a,b:tuple(((a,b),'y')),despair_heights, despair_weights)\n",
    "# 创建kd树\n",
    "tree = kdtree(list(concatenate((grieves,agonies,despairs))))"
   ]
  },
  {
   "cell_type": "code",
   "execution_count": null,
   "metadata": {},
   "outputs": [],
   "source": []
  }
 ],
 "metadata": {
  "kernelspec": {
   "display_name": "Python 2",
   "language": "python",
   "name": "python2"
  },
  "language_info": {
   "codemirror_mode": {
    "name": "ipython",
    "version": 2
   },
   "file_extension": ".py",
   "mimetype": "text/x-python",
   "name": "python",
   "nbconvert_exporter": "python",
   "pygments_lexer": "ipython2",
   "version": "2.7.6"
  }
 },
 "nbformat": 4,
 "nbformat_minor": 0
}
